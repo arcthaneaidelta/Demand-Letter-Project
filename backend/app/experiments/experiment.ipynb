{
 "cells": [
  {
   "cell_type": "code",
   "execution_count": 1,
   "metadata": {},
   "outputs": [
    {
     "name": "stdout",
     "output_type": "stream",
     "text": [
      "Defaulting to user installation because normal site-packages is not writeable\n",
      "Collecting docxtpl\n",
      "  Downloading docxtpl-0.19.1-py2.py3-none-any.whl.metadata (9.1 kB)\n",
      "Collecting python-docx>=1.1.1 (from docxtpl)\n",
      "  Downloading python_docx-1.1.2-py3-none-any.whl.metadata (2.0 kB)\n",
      "Collecting docxcompose (from docxtpl)\n",
      "  Downloading docxcompose-1.4.0.tar.gz (20 kB)\n",
      "  Installing build dependencies: started\n",
      "  Installing build dependencies: finished with status 'done'\n",
      "  Getting requirements to build wheel: started\n",
      "  Getting requirements to build wheel: finished with status 'done'\n",
      "  Preparing metadata (pyproject.toml): started\n",
      "  Preparing metadata (pyproject.toml): finished with status 'done'\n",
      "Requirement already satisfied: jinja2 in c:\\users\\uz789\\appdata\\roaming\\python\\python312\\site-packages (from docxtpl) (3.1.4)\n",
      "Collecting lxml (from docxtpl)\n",
      "  Downloading lxml-5.3.2-cp312-cp312-win_amd64.whl.metadata (3.7 kB)\n",
      "Requirement already satisfied: typing-extensions>=4.9.0 in c:\\users\\uz789\\appdata\\roaming\\python\\python312\\site-packages (from python-docx>=1.1.1->docxtpl) (4.12.2)\n",
      "Requirement already satisfied: setuptools in c:\\users\\uz789\\appdata\\roaming\\python\\python312\\site-packages (from docxcompose->docxtpl) (78.1.0)\n",
      "Requirement already satisfied: six in c:\\users\\uz789\\appdata\\roaming\\python\\python312\\site-packages (from docxcompose->docxtpl) (1.16.0)\n",
      "Collecting babel (from docxcompose->docxtpl)\n",
      "  Downloading babel-2.17.0-py3-none-any.whl.metadata (2.0 kB)\n",
      "Requirement already satisfied: MarkupSafe>=2.0 in c:\\users\\uz789\\appdata\\roaming\\python\\python312\\site-packages (from jinja2->docxtpl) (2.1.5)\n",
      "Downloading docxtpl-0.19.1-py2.py3-none-any.whl (29 kB)\n",
      "Downloading python_docx-1.1.2-py3-none-any.whl (244 kB)\n",
      "   ---------------------------------------- 0.0/244.3 kB ? eta -:--:--\n",
      "   ---------- ----------------------------- 61.4/244.3 kB 3.2 MB/s eta 0:00:01\n",
      "   ---------------------------- ----------- 174.1/244.3 kB 2.6 MB/s eta 0:00:01\n",
      "   ---------------------------------------- 244.3/244.3 kB 2.5 MB/s eta 0:00:00\n",
      "Downloading lxml-5.3.2-cp312-cp312-win_amd64.whl (3.8 MB)\n",
      "   ---------------------------------------- 0.0/3.8 MB ? eta -:--:--\n",
      "   --- ------------------------------------ 0.3/3.8 MB 5.9 MB/s eta 0:00:01\n",
      "   -------- ------------------------------- 0.8/3.8 MB 8.9 MB/s eta 0:00:01\n",
      "   ------------------- -------------------- 1.9/3.8 MB 13.1 MB/s eta 0:00:01\n",
      "   --------------------------- ------------ 2.6/3.8 MB 14.0 MB/s eta 0:00:01\n",
      "   --------------------------------- ------ 3.2/3.8 MB 15.7 MB/s eta 0:00:01\n",
      "   ---------------------------------------- 3.8/3.8 MB 14.3 MB/s eta 0:00:00\n",
      "Downloading babel-2.17.0-py3-none-any.whl (10.2 MB)\n",
      "   ---------------------------------------- 0.0/10.2 MB ? eta -:--:--\n",
      "   --- ------------------------------------ 0.9/10.2 MB 29.4 MB/s eta 0:00:01\n",
      "   ----- ---------------------------------- 1.4/10.2 MB 17.2 MB/s eta 0:00:01\n",
      "   -------- ------------------------------- 2.3/10.2 MB 18.2 MB/s eta 0:00:01\n",
      "   ------------- -------------------------- 3.4/10.2 MB 21.9 MB/s eta 0:00:01\n",
      "   ----------------- ---------------------- 4.6/10.2 MB 20.9 MB/s eta 0:00:01\n",
      "   ---------------------- ----------------- 5.8/10.2 MB 23.2 MB/s eta 0:00:01\n",
      "   -------------------------- ------------- 6.8/10.2 MB 22.8 MB/s eta 0:00:01\n",
      "   ------------------------------- -------- 7.9/10.2 MB 23.0 MB/s eta 0:00:01\n",
      "   ----------------------------------- ---- 9.0/10.2 MB 23.0 MB/s eta 0:00:01\n",
      "   ---------------------------------------  10.0/10.2 MB 22.7 MB/s eta 0:00:01\n",
      "   ---------------------------------------- 10.2/10.2 MB 21.7 MB/s eta 0:00:00\n",
      "Building wheels for collected packages: docxcompose\n",
      "  Building wheel for docxcompose (pyproject.toml): started\n",
      "  Building wheel for docxcompose (pyproject.toml): finished with status 'done'\n",
      "  Created wheel for docxcompose: filename=docxcompose-1.4.0-py3-none-any.whl size=23354 sha256=c280c9d4c878aeca55e62b8999701e6e8b6ed985a6e7a2a1aece7b56d5e5ad1e\n",
      "  Stored in directory: c:\\users\\uz789\\appdata\\local\\pip\\cache\\wheels\\d4\\41\\77\\fea002cfe3f6bf960d7be78eb8feb1147bc6a862021c627c34\n",
      "Successfully built docxcompose\n",
      "Installing collected packages: lxml, babel, python-docx, docxcompose, docxtpl\n",
      "Successfully installed babel-2.17.0 docxcompose-1.4.0 docxtpl-0.19.1 lxml-5.3.2 python-docx-1.1.2\n"
     ]
    },
    {
     "name": "stderr",
     "output_type": "stream",
     "text": [
      "\n",
      "[notice] A new release of pip is available: 24.0 -> 25.0.1\n",
      "[notice] To update, run: python.exe -m pip install --upgrade pip\n"
     ]
    }
   ],
   "source": [
    "!pip install docxtpl"
   ]
  },
  {
   "cell_type": "code",
   "execution_count": 27,
   "metadata": {},
   "outputs": [
    {
     "name": "stdout",
     "output_type": "stream",
     "text": [
      "{'top_date': 'April 06, 2025', 'oc_defendant_name': 'John Doe', 'defendant_street_address': '456 Elm Street, Springfield', 'defendant_state_address': 'CA', 'client_full_name': 'Jane Smith', 'client_subjective': 'he', 'honerif_ics': 'Mr', 'last_name': 'Doe', 'start_date': '2025-01-01', 'end_date': '2025-01-01', 'job_title': 'Software Engineer', 'wage': '25000', 'pay_rate': '25'}\n"
     ]
    }
   ],
   "source": [
    "from docxtpl import DocxTemplate\n",
    "from datetime import datetime\n",
    "# Load the template\n",
    "template = DocxTemplate('./template.docx')\n",
    "\n",
    "# Define the context with sample data\n",
    "context = {\n",
    "    \"top_date\":f\"{datetime.now().strftime('%B %d, %Y')}\",\n",
    "    \"oc_defendant_name\": \"John Doe\",\n",
    "    \"defendant_street_address\": \"456 Elm Street, Springfield\",\n",
    "    \"defendant_state_address\": \"CA\",\n",
    "    'client_full_name': 'Jane Smith',\n",
    "    \"client_subjective\": \"he\",\n",
    "    \"honerif_ics\": \"Mr\",\n",
    "    \"last_name\": \"Doe\",\n",
    "    \"start_date\": \"2025-01-01\",\n",
    "    \"end_date\": \"2025-01-01\",\n",
    "    \"job_title\": \"Software Engineer\",\n",
    "    \"wage\":\"25000\",\n",
    "    \"pay_rate\":\"25\",\n",
    "\n",
    "}\n",
    "\n",
    "print(context)"
   ]
  },
  {
   "cell_type": "code",
   "execution_count": 28,
   "metadata": {},
   "outputs": [],
   "source": [
    "# Render the template with the context\n",
    "template.render(context)"
   ]
  },
  {
   "cell_type": "code",
   "execution_count": 29,
   "metadata": {},
   "outputs": [
    {
     "name": "stdout",
     "output_type": "stream",
     "text": [
      "Document generated successfully! Check 'output_test.docx'.\n"
     ]
    }
   ],
   "source": [
    "# Save the new document\n",
    "template.save('output_test.docx')\n",
    "\n",
    "print(\"Document generated successfully! Check 'output_test.docx'.\")"
   ]
  },
  {
   "cell_type": "code",
   "execution_count": null,
   "metadata": {},
   "outputs": [],
   "source": []
  }
 ],
 "metadata": {
  "kernelspec": {
   "display_name": "Python 3",
   "language": "python",
   "name": "python3"
  },
  "language_info": {
   "codemirror_mode": {
    "name": "ipython",
    "version": 3
   },
   "file_extension": ".py",
   "mimetype": "text/x-python",
   "name": "python",
   "nbconvert_exporter": "python",
   "pygments_lexer": "ipython3",
   "version": "3.12.4"
  }
 },
 "nbformat": 4,
 "nbformat_minor": 2
}
