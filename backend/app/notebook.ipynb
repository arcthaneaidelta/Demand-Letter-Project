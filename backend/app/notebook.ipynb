{
 "cells": [
  {
   "cell_type": "code",
   "execution_count": 2,
   "metadata": {},
   "outputs": [
    {
     "ename": "NameError",
     "evalue": "name '__file__' is not defined",
     "output_type": "error",
     "traceback": [
      "\u001b[31m---------------------------------------------------------------------------\u001b[39m",
      "\u001b[31mNameError\u001b[39m                                 Traceback (most recent call last)",
      "\u001b[36mCell\u001b[39m\u001b[36m \u001b[39m\u001b[32mIn[2]\u001b[39m\u001b[32m, line 5\u001b[39m\n\u001b[32m      3\u001b[39m \u001b[38;5;28;01mfrom\u001b[39;00m\u001b[38;5;250m \u001b[39m\u001b[34;01mpathlib\u001b[39;00m\u001b[38;5;250m \u001b[39m\u001b[38;5;28;01mimport\u001b[39;00m Path\n\u001b[32m      4\u001b[39m \u001b[38;5;66;03m# Add AI module path\u001b[39;00m\n\u001b[32m----> \u001b[39m\u001b[32m5\u001b[39m BASE_DIR = Path(os.path.dirname(os.path.abspath(\u001b[34;43m__file__\u001b[39;49m)))\\\n\u001b[32m      6\u001b[39m     .parent.parent.parent\n\u001b[32m      7\u001b[39m AI_DIR = BASE_DIR / \u001b[33m\"\u001b[39m\u001b[33mai\u001b[39m\u001b[33m\"\u001b[39m\n\u001b[32m      8\u001b[39m sys.path.insert(\u001b[32m0\u001b[39m, \u001b[38;5;28mstr\u001b[39m(AI_DIR))\n",
      "\u001b[31mNameError\u001b[39m: name '__file__' is not defined"
     ]
    }
   ],
   "source": [
    "import os\n",
    "import sys\n",
    "from pathlib import Path\n",
    "# Add AI module path\n",
    "BASE_DIR = Path(os.path.dirname(os.path.abspath(__file__)))\\\n",
    "    .parent.parent.parent\n",
    "AI_DIR = BASE_DIR / \"ai\"\n",
    "sys.path.insert(0, str(AI_DIR))\n",
    "# Add base dir to path to ensure proper imports\n",
    "sys.path.insert(0, str(BASE_DIR))  \n",
    "\n",
    "# Need to import after modifying sys.path\n",
    "from ai.src.write_a_book_with_flows.main import DemandLetterFlow  # noqa: E402\n"
   ]
  },
  {
   "cell_type": "code",
   "execution_count": 1,
   "metadata": {},
   "outputs": [
    {
     "ename": "ModuleNotFoundError",
     "evalue": "No module named 'app'",
     "output_type": "error",
     "traceback": [
      "\u001b[31m---------------------------------------------------------------------------\u001b[39m",
      "\u001b[31mModuleNotFoundError\u001b[39m                       Traceback (most recent call last)",
      "\u001b[36mCell\u001b[39m\u001b[36m \u001b[39m\u001b[32mIn[1]\u001b[39m\u001b[32m, line 1\u001b[39m\n\u001b[32m----> \u001b[39m\u001b[32m1\u001b[39m \u001b[38;5;28;01mfrom\u001b[39;00m\u001b[38;5;250m \u001b[39m\u001b[34;01mapp\u001b[39;00m\u001b[34;01m.\u001b[39;00m\u001b[34;01mapi\u001b[39;00m\u001b[34;01m.\u001b[39;00m\u001b[34;01mroutes\u001b[39;00m\u001b[34;01m.\u001b[39;00m\u001b[34;01mgenerate\u001b[39;00m\u001b[38;5;250m \u001b[39m\u001b[38;5;28;01mimport\u001b[39;00m generate_demand_letter_task\n",
      "\u001b[31mModuleNotFoundError\u001b[39m: No module named 'app'"
     ]
    }
   ],
   "source": [
    "from app.api.routes.generate import generate_demand_letter_task\n",
    "\n"
   ]
  },
  {
   "cell_type": "code",
   "execution_count": 3,
   "metadata": {},
   "outputs": [
    {
     "name": "stdout",
     "output_type": "stream",
     "text": [
      "Import failed: No module named 'crewai'\n"
     ]
    }
   ],
   "source": [
    "try:\n",
    "    from api.routes.generate import generate_demand_letter_task\n",
    "    print(\"Successfully imported generate_demand_letter_task\")\n",
    "except ImportError:\n",
    "    try:\n",
    "        from app.api.routes.generate import generate_demand_letter_task\n",
    "        print(\"Successfully imported via alternate path\")\n",
    "    except ImportError as e:\n",
    "        print(f\"Import failed: {e}\")"
   ]
  },
  {
   "cell_type": "code",
   "execution_count": 1,
   "metadata": {},
   "outputs": [],
   "source": [
    "mydata={\"Id\": \"a5OPd000005WWpyMAG\", \"OwnerId\": \"005Pd0000008gQHIAY\", \"IsDeleted\": 0, \"Name\": \"INT-0000000013\", \"CreatedDate\": \"2024-11-27 17:23:51\", \"CreatedById\": \"005Pd0000008gQHIAY\", \"LastModifiedDate\": \"2025-01-18 03:53:13\", \"LastModifiedById\": \"005Hs00000D18OoIAJ\", \"SystemModstamp\": \"2025-01-18 03:53:13\", \"Client_Address__CountryCode__s\": \"US\", \"Name_Of_Employer__c\": \"Taco Bell\", \"Address_Of_Location_Worked_At__CountryCode__s\": \"US\", \"Severance_Agreement__c\": \"No\", \"Govt_employee__c\": \"No\", \"Indian_Reservation__c\": \"No\", \"Do_you_work_for_the_military__c\": \"No\", \"Union_Member__c\": \"Yes\", \"Employee_or_Independent_Contractor__c\": \"Independent Contractor (1099)\", \"Employer_Address__CountryCode__s\": \"US\", \"Hourly_Or_Salary__c\": \"Salary\", \"Current_Representation__c\": \"No\", \"Pay_Frequency__c\": \"Bi-Weekly\", \"Unpaid_Regular_Hours__c\": \"No\", \"Unpaid_Regular_Hours_Complaint__c\": \"Yes\", \"Previous_Lawsuit_With_Employer__c\": \"Never\", \"Start_Date_of_Employment__c\": \"2024-11-27 00:00:00\", \"Last_Date_of_Employment__c\": \"2024-11-28 00:00:00\", \"Termination_Date__c\": \"2024-11-27 00:00:00\", \"Union_Grievance__c\": \"Yes\", \"X1099_Misclassification__c\": \"Yes\", \"X1099_Misclassification_Notes__c\": \"Client states they were working under someone who gave them their schedule daily.\", \"Were_you_fired_or_did_you_resign__c\": \"Fired\", \"New_Job_Since_Employment_Ended__c\": \"No\", \"Able_To_Take_Rest_Breaks__c\": \"No\", \"Annual_Salary__c\": 60000, \"Hourly_Rate__c\": 35, \"Hours_Worked_per_Week__c\": 40, \"FEHA__c\": \"Yes\", \"Race_Color__c\": 1, \"Ancestry_or_National_Origin__c\": 0, \"Religion__c\": 1, \"Age_40_or_over__c\": 0, \"Mental_Disability__c\": 0, \"Physical_Disability__c\": 0, \"Sex_or_Gender__c\": 1, \"Sexual_Orientation__c\": 1, \"Gender_Identity_or_Expression__c\": 0, \"Medical_Condition__c\": 0, \"Genetic_Information__c\": 0, \"Marital_Status__c\": 0, \"Military_or_Veteran_Status__c\": 0, \"If_YES_to_FEHA_why__c\": \"They just felt blah blah blah\", \"If_YES_to_Race_or_Color_why__c\": \"THey called me the N word\", \"If_YES_to_Religion_why__c\": \"They would not let me pray\", \"If_YES_to_Sex_Gender_why__c\": \"I am woman\", \"If_YES_to_Sexual_Orientation_why__c\": \"They made fun of me for being gay\", \"Key_Witnesses__c\": \"Yes\", \"Sexual_Harassment_Assault__c\": \"Yes\", \"Incident_Type__c\": \"Sexual Harassment\", \"Frequency_Of_Incident__c\": \"Ongoing\", \"Did_You_Report_The_Incident__c\": \"Yes\", \"Name_s_of_Perpetrator_s__c\": \"Mike Smith\", \"Location_of_Incident__c\": \"Break room\", \"Role_of_Perpetrator_s__c\": \"Supervisor\", \"Illegal_or_Unethical_Workplace_Conduct__c\": \"No\", \"Attempt_To_Take_Sick_Leave__c\": \"No\", \"Attempt_to_Schedule_Medical_Family_Leave__c\": \"No\"}"
   ]
  },
  {
   "cell_type": "code",
   "execution_count": 4,
   "metadata": {},
   "outputs": [
    {
     "data": {
      "text/plain": [
       "dict_keys(['Id', 'OwnerId', 'IsDeleted', 'Name', 'CreatedDate', 'CreatedById', 'LastModifiedDate', 'LastModifiedById', 'SystemModstamp', 'Client_Address__CountryCode__s', 'Name_Of_Employer__c', 'Address_Of_Location_Worked_At__CountryCode__s', 'Severance_Agreement__c', 'Govt_employee__c', 'Indian_Reservation__c', 'Do_you_work_for_the_military__c', 'Union_Member__c', 'Employee_or_Independent_Contractor__c', 'Employer_Address__CountryCode__s', 'Hourly_Or_Salary__c', 'Current_Representation__c', 'Pay_Frequency__c', 'Unpaid_Regular_Hours__c', 'Unpaid_Regular_Hours_Complaint__c', 'Previous_Lawsuit_With_Employer__c', 'Start_Date_of_Employment__c', 'Last_Date_of_Employment__c', 'Termination_Date__c', 'Union_Grievance__c', 'X1099_Misclassification__c', 'X1099_Misclassification_Notes__c', 'Were_you_fired_or_did_you_resign__c', 'New_Job_Since_Employment_Ended__c', 'Able_To_Take_Rest_Breaks__c', 'Annual_Salary__c', 'Hourly_Rate__c', 'Hours_Worked_per_Week__c', 'FEHA__c', 'Race_Color__c', 'Ancestry_or_National_Origin__c', 'Religion__c', 'Age_40_or_over__c', 'Mental_Disability__c', 'Physical_Disability__c', 'Sex_or_Gender__c', 'Sexual_Orientation__c', 'Gender_Identity_or_Expression__c', 'Medical_Condition__c', 'Genetic_Information__c', 'Marital_Status__c', 'Military_or_Veteran_Status__c', 'If_YES_to_FEHA_why__c', 'If_YES_to_Race_or_Color_why__c', 'If_YES_to_Religion_why__c', 'If_YES_to_Sex_Gender_why__c', 'If_YES_to_Sexual_Orientation_why__c', 'Key_Witnesses__c', 'Sexual_Harassment_Assault__c', 'Incident_Type__c', 'Frequency_Of_Incident__c', 'Did_You_Report_The_Incident__c', 'Name_s_of_Perpetrator_s__c', 'Location_of_Incident__c', 'Role_of_Perpetrator_s__c', 'Illegal_or_Unethical_Workplace_Conduct__c', 'Attempt_To_Take_Sick_Leave__c', 'Attempt_to_Schedule_Medical_Family_Leave__c'])"
      ]
     },
     "execution_count": 4,
     "metadata": {},
     "output_type": "execute_result"
    }
   ],
   "source": [
    "mydata.keys().mapping"
   ]
  },
  {
   "cell_type": "code",
   "execution_count": 5,
   "metadata": {},
   "outputs": [],
   "source": [
    "# Get the keys as a view object\n",
    "keys_view = mydata.keys()\n",
    "\n",
    "# Convert to a list if needed\n",
    "keys_list = list(mydata.keys())"
   ]
  },
  {
   "cell_type": "code",
   "execution_count": 6,
   "metadata": {},
   "outputs": [
    {
     "data": {
      "text/plain": [
       "['Id',\n",
       " 'OwnerId',\n",
       " 'IsDeleted',\n",
       " 'Name',\n",
       " 'CreatedDate',\n",
       " 'CreatedById',\n",
       " 'LastModifiedDate',\n",
       " 'LastModifiedById',\n",
       " 'SystemModstamp',\n",
       " 'Client_Address__CountryCode__s',\n",
       " 'Name_Of_Employer__c',\n",
       " 'Address_Of_Location_Worked_At__CountryCode__s',\n",
       " 'Severance_Agreement__c',\n",
       " 'Govt_employee__c',\n",
       " 'Indian_Reservation__c',\n",
       " 'Do_you_work_for_the_military__c',\n",
       " 'Union_Member__c',\n",
       " 'Employee_or_Independent_Contractor__c',\n",
       " 'Employer_Address__CountryCode__s',\n",
       " 'Hourly_Or_Salary__c',\n",
       " 'Current_Representation__c',\n",
       " 'Pay_Frequency__c',\n",
       " 'Unpaid_Regular_Hours__c',\n",
       " 'Unpaid_Regular_Hours_Complaint__c',\n",
       " 'Previous_Lawsuit_With_Employer__c',\n",
       " 'Start_Date_of_Employment__c',\n",
       " 'Last_Date_of_Employment__c',\n",
       " 'Termination_Date__c',\n",
       " 'Union_Grievance__c',\n",
       " 'X1099_Misclassification__c',\n",
       " 'X1099_Misclassification_Notes__c',\n",
       " 'Were_you_fired_or_did_you_resign__c',\n",
       " 'New_Job_Since_Employment_Ended__c',\n",
       " 'Able_To_Take_Rest_Breaks__c',\n",
       " 'Annual_Salary__c',\n",
       " 'Hourly_Rate__c',\n",
       " 'Hours_Worked_per_Week__c',\n",
       " 'FEHA__c',\n",
       " 'Race_Color__c',\n",
       " 'Ancestry_or_National_Origin__c',\n",
       " 'Religion__c',\n",
       " 'Age_40_or_over__c',\n",
       " 'Mental_Disability__c',\n",
       " 'Physical_Disability__c',\n",
       " 'Sex_or_Gender__c',\n",
       " 'Sexual_Orientation__c',\n",
       " 'Gender_Identity_or_Expression__c',\n",
       " 'Medical_Condition__c',\n",
       " 'Genetic_Information__c',\n",
       " 'Marital_Status__c',\n",
       " 'Military_or_Veteran_Status__c',\n",
       " 'If_YES_to_FEHA_why__c',\n",
       " 'If_YES_to_Race_or_Color_why__c',\n",
       " 'If_YES_to_Religion_why__c',\n",
       " 'If_YES_to_Sex_Gender_why__c',\n",
       " 'If_YES_to_Sexual_Orientation_why__c',\n",
       " 'Key_Witnesses__c',\n",
       " 'Sexual_Harassment_Assault__c',\n",
       " 'Incident_Type__c',\n",
       " 'Frequency_Of_Incident__c',\n",
       " 'Did_You_Report_The_Incident__c',\n",
       " 'Name_s_of_Perpetrator_s__c',\n",
       " 'Location_of_Incident__c',\n",
       " 'Role_of_Perpetrator_s__c',\n",
       " 'Illegal_or_Unethical_Workplace_Conduct__c',\n",
       " 'Attempt_To_Take_Sick_Leave__c',\n",
       " 'Attempt_to_Schedule_Medical_Family_Leave__c']"
      ]
     },
     "execution_count": 6,
     "metadata": {},
     "output_type": "execute_result"
    }
   ],
   "source": [
    "keys_list"
   ]
  },
  {
   "cell_type": "code",
   "execution_count": null,
   "metadata": {},
   "outputs": [],
   "source": []
  }
 ],
 "metadata": {
  "kernelspec": {
   "display_name": "Python 3",
   "language": "python",
   "name": "python3"
  },
  "language_info": {
   "codemirror_mode": {
    "name": "ipython",
    "version": 3
   },
   "file_extension": ".py",
   "mimetype": "text/x-python",
   "name": "python",
   "nbconvert_exporter": "python",
   "pygments_lexer": "ipython3",
   "version": "3.12.4"
  }
 },
 "nbformat": 4,
 "nbformat_minor": 2
}
